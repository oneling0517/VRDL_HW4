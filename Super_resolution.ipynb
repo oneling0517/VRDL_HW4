{
  "nbformat": 4,
  "nbformat_minor": 0,
  "metadata": {
    "colab": {
      "name": "Super resolution.ipynb",
      "provenance": [],
      "collapsed_sections": []
    },
    "kernelspec": {
      "name": "python3",
      "display_name": "Python 3"
    },
    "language_info": {
      "name": "python"
    },
    "accelerator": "GPU"
  },
  "cells": [
    {
      "cell_type": "markdown",
      "metadata": {
        "id": "6nW4BN-FEHAn"
      },
      "source": [
        "# Use GPU"
      ]
    },
    {
      "cell_type": "code",
      "metadata": {
        "colab": {
          "base_uri": "https://localhost:8080/"
        },
        "id": "u3rG-rjUEKyZ",
        "outputId": "09d3f949-e747-4d7a-9059-194214019a2b"
      },
      "source": [
        "# Make sure you use the Colab GPU to run the testing phase\n",
        "\n",
        "import torch\n",
        "torch.cuda.is_available()"
      ],
      "execution_count": 1,
      "outputs": [
        {
          "output_type": "execute_result",
          "data": {
            "text/plain": [
              "True"
            ]
          },
          "metadata": {},
          "execution_count": 1
        }
      ]
    },
    {
      "cell_type": "code",
      "metadata": {
        "id": "TWkyJWPwfBy7"
      },
      "source": [
        "import os\n",
        "import cv2\n",
        "import json\n",
        "import h5py\n",
        "import numpy as np"
      ],
      "execution_count": 2,
      "outputs": []
    },
    {
      "cell_type": "markdown",
      "metadata": {
        "id": "uA_I5ZHmv8Je"
      },
      "source": [
        "# Git clone your project"
      ]
    },
    {
      "cell_type": "code",
      "metadata": {
        "id": "_hteyN2COWmz",
        "colab": {
          "base_uri": "https://localhost:8080/"
        },
        "outputId": "e552fc39-81a3-470b-f93b-35eaa50e9529"
      },
      "source": [
        "!git clone https://github.com/oneling0517/VRDL_HW4.git"
      ],
      "execution_count": 3,
      "outputs": [
        {
          "output_type": "stream",
          "name": "stdout",
          "text": [
            "Cloning into 'VRDL_HW4'...\n",
            "remote: Enumerating objects: 158, done.\u001b[K\n",
            "remote: Counting objects: 100% (158/158), done.\u001b[K\n",
            "remote: Compressing objects: 100% (156/156), done.\u001b[K\n",
            "remote: Total 158 (delta 84), reused 0 (delta 0), pack-reused 0\u001b[K\n",
            "Receiving objects: 100% (158/158), 54.81 KiB | 7.83 MiB/s, done.\n",
            "Resolving deltas: 100% (84/84), done.\n"
          ]
        }
      ]
    },
    {
      "cell_type": "markdown",
      "metadata": {
        "id": "Lkfa5oogABJB"
      },
      "source": [
        "# Download Data"
      ]
    },
    {
      "cell_type": "code",
      "metadata": {
        "id": "4jL5aZH-2Jtu",
        "colab": {
          "base_uri": "https://localhost:8080/"
        },
        "outputId": "69f25fba-1e5a-4297-c6bf-1eb16ae9dd56"
      },
      "source": [
        "os.chdir(\"/content/VRDL_HW4\")\n",
        "!gdown --id '1GL_Rh1N-WjrvF_-YOKOyvq0zrV6TF4hb' --output dataset.zip\n",
        "\n",
        "!apt-get install unzi\n",
        "!unzip -q 'dataset.zip' -d dataset\n",
        "# try to comment -d dataset next time"
      ],
      "execution_count": 4,
      "outputs": [
        {
          "output_type": "stream",
          "name": "stdout",
          "text": [
            "Downloading...\n",
            "From: https://drive.google.com/uc?id=1GL_Rh1N-WjrvF_-YOKOyvq0zrV6TF4hb\n",
            "To: /content/VRDL_HW4/dataset.zip\n",
            "100% 62.1M/62.1M [00:00<00:00, 196MB/s]\n",
            "Reading package lists... Done\n",
            "Building dependency tree       \n",
            "Reading state information... Done\n",
            "E: Unable to locate package unzi\n"
          ]
        }
      ]
    },
    {
      "cell_type": "markdown",
      "source": [
        "# Split training set and validation set"
      ],
      "metadata": {
        "id": "Cy1A0Ux31JPy"
      }
    },
    {
      "cell_type": "code",
      "source": [
        "os.chdir(\"/content/VRDL_HW4\")\n",
        "!python3 split_train_val.py"
      ],
      "metadata": {
        "id": "gfoFQkRQmZOM"
      },
      "execution_count": 5,
      "outputs": []
    },
    {
      "cell_type": "markdown",
      "source": [
        "# Start training"
      ],
      "metadata": {
        "id": "g3yF4DMx_-AE"
      }
    },
    {
      "cell_type": "code",
      "source": [
        "os.chdir(\"/content/VRDL_HW4\")\n",
        "!python3 train.py"
      ],
      "metadata": {
        "id": "Nfgr3uG9oYyh"
      },
      "execution_count": null,
      "outputs": []
    },
    {
      "cell_type": "code",
      "source": [
        "os.chdir(\"/content/VRDL_HW4\")\n",
        "!python3 eval.py"
      ],
      "metadata": {
        "id": "h0eOr9k6d2D4",
        "colab": {
          "base_uri": "https://localhost:8080/"
        },
        "outputId": "4fb934f1-b873-409f-c88d-d357514c0463"
      },
      "execution_count": null,
      "outputs": [
        {
          "output_type": "stream",
          "name": "stdout",
          "text": [
            "/usr/local/lib/python3.7/dist-packages/torch/utils/data/dataloader.py:481: UserWarning: This DataLoader will create 4 worker processes in total. Our suggested max number of worker in current system is 2, which is smaller than what this DataLoader is going to create. Please be aware that excessive worker creation might get DataLoader running slow or even freeze, lower the worker number to avoid potential slowness/freeze if necessary.\n",
            "  cpuset_checked))\n",
            "PSNR - 30.511\n"
          ]
        }
      ]
    },
    {
      "cell_type": "markdown",
      "source": [
        "# Testing and generate submission\n"
      ],
      "metadata": {
        "id": "r3PGyFrHAGGN"
      }
    },
    {
      "cell_type": "code",
      "source": [
        "os.chdir(\"/content/VRDL_HW4\")\n",
        "!python3 test.py"
      ],
      "metadata": {
        "id": "5R5MnpjAd_rP"
      },
      "execution_count": null,
      "outputs": []
    }
  ]
}