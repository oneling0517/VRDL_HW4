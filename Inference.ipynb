{
  "nbformat": 4,
  "nbformat_minor": 0,
  "metadata": {
    "colab": {
      "name": "Inference.ipynb",
      "provenance": []
    },
    "kernelspec": {
      "name": "python3",
      "display_name": "Python 3"
    },
    "language_info": {
      "name": "python"
    },
    "accelerator": "GPU"
  },
  "cells": [
    {
      "cell_type": "markdown",
      "metadata": {
        "id": "6nW4BN-FEHAn"
      },
      "source": [
        "# Use GPU"
      ]
    },
    {
      "cell_type": "code",
      "metadata": {
        "colab": {
          "base_uri": "https://localhost:8080/"
        },
        "id": "u3rG-rjUEKyZ",
        "outputId": "2da04ea7-3f8e-44d7-914f-90ee1196c26e"
      },
      "source": [
        "# Make sure you use the Colab GPU to run the testing phase\n",
        "\n",
        "import torch\n",
        "torch.cuda.is_available()"
      ],
      "execution_count": null,
      "outputs": [
        {
          "output_type": "execute_result",
          "data": {
            "text/plain": [
              "True"
            ]
          },
          "metadata": {},
          "execution_count": 1
        }
      ]
    },
    {
      "cell_type": "code",
      "metadata": {
        "id": "TWkyJWPwfBy7"
      },
      "source": [
        "import os\n",
        "import cv2\n",
        "import json\n",
        "import h5py\n",
        "import numpy as np"
      ],
      "execution_count": null,
      "outputs": []
    },
    {
      "cell_type": "markdown",
      "metadata": {
        "id": "uA_I5ZHmv8Je"
      },
      "source": [
        "# Git clone your project"
      ]
    },
    {
      "cell_type": "code",
      "metadata": {
        "id": "_hteyN2COWmz",
        "colab": {
          "base_uri": "https://localhost:8080/"
        },
        "outputId": "b6d59a64-2c8a-4200-93db-7f4f31be2ffc"
      },
      "source": [
        "!git clone https://github.com/oneling0517/VRDL_HW4.git"
      ],
      "execution_count": null,
      "outputs": [
        {
          "output_type": "stream",
          "name": "stdout",
          "text": [
            "Cloning into 'VRDL_HW4'...\n",
            "remote: Enumerating objects: 89, done.\u001b[K\n",
            "remote: Counting objects: 100% (89/89), done.\u001b[K\n",
            "remote: Compressing objects: 100% (87/87), done.\u001b[K\n",
            "remote: Total 89 (delta 44), reused 0 (delta 0), pack-reused 0\u001b[K\n",
            "Unpacking objects: 100% (89/89), done.\n"
          ]
        }
      ]
    },
    {
      "cell_type": "markdown",
      "metadata": {
        "id": "Lkfa5oogABJB"
      },
      "source": [
        "# Download the data"
      ]
    },
    {
      "cell_type": "code",
      "metadata": {
        "id": "4jL5aZH-2Jtu",
        "colab": {
          "base_uri": "https://localhost:8080/"
        },
        "outputId": "4f2c3d92-ae77-49d9-c182-58cdcd8c739e"
      },
      "source": [
        "os.chdir(\"/content/VRDL_HW4\")\n",
        "!gdown --id '1GL_Rh1N-WjrvF_-YOKOyvq0zrV6TF4hb' --output dataset.zip\n",
        "\n",
        "!apt-get install unzi\n",
        "!unzip -q 'dataset.zip' -d dataset\n",
        "# try to comment -d dataset next time"
      ],
      "execution_count": null,
      "outputs": [
        {
          "output_type": "stream",
          "name": "stdout",
          "text": [
            "Downloading...\n",
            "From: https://drive.google.com/uc?id=1GL_Rh1N-WjrvF_-YOKOyvq0zrV6TF4hb\n",
            "To: /content/VRDL_HW4/dataset.zip\n",
            "100% 62.1M/62.1M [00:00<00:00, 198MB/s]\n",
            "Reading package lists... Done\n",
            "Building dependency tree       \n",
            "Reading state information... Done\n",
            "E: Unable to locate package unzi\n"
          ]
        }
      ]
    },
    {
      "cell_type": "markdown",
      "source": [
        "# Download the checkpoint"
      ],
      "metadata": {
        "id": "WIjICoh2yq2l"
      }
    },
    {
      "cell_type": "code",
      "source": [
        "os.chdir(\"/content/VRDL_HW4\")\n",
        "%mkdir models\n",
        "os.chdir(\"/content/VRDL_HW4/models\")\n",
        "!gdown --id '1Wxwr4yR2iiFN9P4hPeOMJzQyYLgo9grb' --output best_checkpoint_srresnet.pth.tar #27.6771"
      ],
      "metadata": {
        "id": "jc8Tzhui6XN8",
        "colab": {
          "base_uri": "https://localhost:8080/"
        },
        "outputId": "72596144-b619-4f84-97e8-7472e0d94ae6"
      },
      "execution_count": null,
      "outputs": [
        {
          "output_type": "stream",
          "name": "stdout",
          "text": [
            "Downloading...\n",
            "From: https://drive.google.com/uc?id=1PkJbEwdiO1ATjxSrH9WHbRwYZWGg5Vi7\n",
            "To: /content/VRDL_HW4/models/best_checkpoint_srresnet2.pth.tar\n",
            "100% 19.3M/19.3M [00:00<00:00, 61.3MB/s]\n",
            "Downloading...\n",
            "From: https://drive.google.com/uc?id=1lnNBMOx_so9IRAlu45xkIsb4giaKT62J\n",
            "To: /content/VRDL_HW4/models/best_checkpoint_srresnet3.pth.tar\n",
            "100% 19.3M/19.3M [00:00<00:00, 61.3MB/s]\n",
            "Downloading...\n",
            "From: https://drive.google.com/uc?id=1Wxwr4yR2iiFN9P4hPeOMJzQyYLgo9grb\n",
            "To: /content/VRDL_HW4/models/best_checkpoint_srresnet4.pth.tar\n",
            "100% 19.3M/19.3M [00:00<00:00, 61.2MB/s]\n"
          ]
        }
      ]
    },
    {
      "cell_type": "markdown",
      "source": [
        "# Testing and generate submission\n",
        "\n"
      ],
      "metadata": {
        "id": "4iNUPiMF0Yew"
      }
    },
    {
      "cell_type": "code",
      "source": [
        "os.chdir(\"/content/VRDL_HW4\")\n",
        "!python3 test.py"
      ],
      "metadata": {
        "id": "5R5MnpjAd_rP",
        "colab": {
          "base_uri": "https://localhost:8080/"
        },
        "outputId": "9a264aba-f555-4783-c9dd-819960b6cfd6"
      },
      "execution_count": null,
      "outputs": [
        {
          "output_type": "stream",
          "name": "stdout",
          "text": [
            "/usr/local/lib/python3.7/dist-packages/torch/utils/data/dataloader.py:481: UserWarning: This DataLoader will create 4 worker processes in total. Our suggested max number of worker in current system is 2, which is smaller than what this DataLoader is going to create. Please be aware that excessive worker creation might get DataLoader running slow or even freeze, lower the worker number to avoid potential slowness/freeze if necessary.\n",
            "  cpuset_checked))\n"
          ]
        }
      ]
    }
  ]
}